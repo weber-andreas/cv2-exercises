{
 "cells": [
  {
   "cell_type": "markdown",
   "metadata": {
    "tags": []
   },
   "source": [
    "# Exercise 02: Camera Model"
   ]
  },
  {
   "cell_type": "markdown",
   "metadata": {},
   "source": [
    "<div>\n",
    "<img src=\"data/Problem_Formulation.png\" width=\"800\"/>\n",
    "</div>\n"
   ]
  },
  {
   "cell_type": "markdown",
   "metadata": {},
   "source": [
    "As illustrated in the picture above, the goal is to code a reprojector. It would allow to transform a pixel on a first image plane into a pixel on a second image plane, given the distance of the corresponding 3D point with respect to the first camera, and the camera parameters.\n",
    "The reprojector will simply execute the following steps:\n",
    "1) Unproject the pixel from image plane 1 using the distance value, to obtain a 3D point in camera 1 coordinate.\n",
    "2) Convert this 3D point to camera 2 coordinate.\n",
    "3) Project it to image plane 2.\n",
    "\n",
    "It will be first done in case of a perfect pinhole camera model, then distortion will be taken into account through the FOV model that was described in the fourth exercise sheet."
   ]
  },
  {
   "cell_type": "code",
   "execution_count": 7,
   "metadata": {},
   "outputs": [
    {
     "name": "stdout",
     "output_type": "stream",
     "text": [
      "The autoreload extension is already loaded. To reload it, use:\n",
      "  %reload_ext autoreload\n"
     ]
    }
   ],
   "source": [
    "from exercise_code.camera import *\n",
    "\n",
    "from tests import test_pinhole, test_fov, test_reprojection, test_relative_pose\n",
    "%load_ext autoreload\n",
    "%autoreload 2"
   ]
  },
  {
   "cell_type": "markdown",
   "metadata": {},
   "source": [
    "### Camera coordinates conversion\n",
    "As stated previously, a conversion from camera 1 to camera 2 coordinates is needed. However, the camera poses that are provided allows to move from camera to world coordinate, and are given as $3 \\times 4$ matrices of the form $[ R_i | T_i ]$. Thus a function that would allow to obtain the relative pose between the two cameras is convenient. Such a relative pose would also be a $3 \\times 4$ matrix of the form $[ R | T]$, and transforms indeed from camera 1 to camera 2 coordinate.\n",
    "\n",
    "Go to file ```/exercise_code/camera.py``` and implement the function ```compute_relative_pose```.\n",
    "\n",
    "Run the following test:"
   ]
  },
  {
   "cell_type": "code",
   "execution_count": 8,
   "metadata": {},
   "outputs": [
    {
     "name": "stderr",
     "output_type": "stream",
     "text": [
      "INFO:root:Congratulations: You passed the test case for the relative pose.\n",
      "INFO:root:Score: 100/100\n"
     ]
    },
    {
     "data": {
      "text/plain": [
       "100"
      ]
     },
     "execution_count": 8,
     "metadata": {},
     "output_type": "execute_result"
    }
   ],
   "source": [
    "test_relative_pose()"
   ]
  },
  {
   "cell_type": "markdown",
   "metadata": {},
   "source": [
    "### Pinhole camera model\n",
    "In this section, we assume that both cameras are ideal, and follow the pinhole camera model described in the lecture. A class ```Pinhole``` has been defined to simulate such a camera, and contains two methods. The first one ```project``` takes as input a point in camera coordinate, and output a pixel in the image plane. And the second one ```unproject``` takes as input a pixel and a distance, and output the corresponding 3D point in camera coordinate (whose projection is the given pixel, and whose distance from the camera origin is the given distance).\n",
    "\n",
    " Go to file ```/exercise_code/camera.py``` and implement those functions of the class ```Pinhole```.\n",
    "\n",
    "Check, whether you passed the test:"
   ]
  },
  {
   "cell_type": "code",
   "execution_count": 9,
   "metadata": {},
   "outputs": [
    {
     "name": "stderr",
     "output_type": "stream",
     "text": [
      "INFO:root:Congratulations: You passed the test case for the pinhole projection.\n",
      "INFO:root:Congratulations: You passed the test case for the pinhole unprojection.\n",
      "INFO:root:All tests of PinholeTest passed.\n",
      "Tests passed: 2/2\n",
      "INFO:root:Score: 100/100\n"
     ]
    },
    {
     "data": {
      "text/plain": [
       "100"
      ]
     },
     "execution_count": 9,
     "metadata": {},
     "output_type": "execute_result"
    }
   ],
   "source": [
    "test_pinhole()"
   ]
  },
  {
   "cell_type": "markdown",
   "metadata": {},
   "source": [
    "### FOV camera model\n",
    "Now we assume that the cameras exhibit some radial distortion according to the FOV model, please refer to the second part of the fourth exercise sheet for the details.\n",
    "Similar to the pinhole camera case, a class ```Fov``` have been defined to simulate such a camera, and have the exact same methods as the class ```Pinhole``` implemented previously.\n",
    "\n",
    "Go to file ```/exercise_code/camera.py``` and implement those functions of the class ```Fov```.\n",
    "\n",
    "Check, whether you passed the test:"
   ]
  },
  {
   "cell_type": "code",
   "execution_count": 10,
   "metadata": {},
   "outputs": [
    {
     "name": "stderr",
     "output_type": "stream",
     "text": [
      "INFO:root:Congratulations: You passed the test case for the FOV projection.\n",
      "INFO:root:Congratulations: You passed the test case for the FOV unprojection.\n",
      "INFO:root:All tests of FovTest passed.\n",
      "Tests passed: 2/2\n",
      "INFO:root:Score: 100/100\n"
     ]
    },
    {
     "data": {
      "text/plain": [
       "100"
      ]
     },
     "execution_count": 10,
     "metadata": {},
     "output_type": "execute_result"
    }
   ],
   "source": [
    "test_fov()"
   ]
  },
  {
   "cell_type": "markdown",
   "metadata": {},
   "source": [
    "### Final code and test"
   ]
  },
  {
   "cell_type": "code",
   "execution_count": 14,
   "metadata": {
    "collapsed": false,
    "jupyter": {
     "outputs_hidden": false
    },
    "pycharm": {
     "is_executing": true
    }
   },
   "outputs": [
    {
     "name": "stdout",
     "output_type": "stream",
     "text": [
      "reprojected pixel:(561.2318770072492,235.04299362681456), reprojection error: 4.5089409502570425e-12\n",
      "reprojected pixel:(664.0137189555777,95.37099118856386), reprojection error: 5.213524708774418e-12\n",
      "reprojected pixel:(469.9828696976405,319.54769594054136), reprojection error: 3.945195362453122e-12\n"
     ]
    }
   ],
   "source": [
    "import numpy as np\n",
    "\n",
    "data = np.load(\"data/data.npz\")\n",
    "\n",
    "# Creating cameras\n",
    "first_cam = Pinhole(640,480,600,600,320,240)\n",
    "second_cam = Pinhole(640,480,600,600,320,240)\n",
    "\n",
    "# Load data\n",
    "pixels = data[\"pixels\"]\n",
    "distances = data[\"distances\"]\n",
    "pose_1 = data[\"pose_1\"]\n",
    "pose_2 = data[\"pose_2\"]\n",
    "relative_pose = compute_relative_pose(pose_1,pose_2)\n",
    "npix = distances.size\n",
    "\n",
    "reprojected_pixels = data[\"reprojected_pixels_1\"]\n",
    "\n",
    "for i in range(npix):\n",
    "    # Take a pixel of image 1, unproject it, transform to cam 2, project to image 2\n",
    "    pt = first_cam.unproject(pixels[i],distances[i])\n",
    "\n",
    "    pt_cam2 = relative_pose @ np.append(pt,1.0) #Transform to cam 2 coordinates\n",
    "    pix2 = second_cam.project(pt_cam2) #Project to image 2\n",
    "\n",
    "    reprojection_error = np.linalg.norm(pix2 - reprojected_pixels[i, :])\n",
    "    print(\"reprojected pixel:({0},{1}), reprojection error: {2}\".format(pix2[0],pix2[1],reprojection_error))\n"
   ]
  },
  {
   "cell_type": "code",
   "execution_count": 12,
   "metadata": {
    "collapsed": false,
    "jupyter": {
     "outputs_hidden": false
    }
   },
   "outputs": [
    {
     "name": "stderr",
     "output_type": "stream",
     "text": [
      "INFO:root:Congratulations: You passed the test case for the pinhole reprojection.\n",
      "INFO:root:Congratulations: You passed the test case for the FOV reprojection.\n",
      "INFO:root:All tests of ReprojectionTest passed.\n",
      "Tests passed: 2/2\n",
      "INFO:root:Score: 100/100\n"
     ]
    },
    {
     "data": {
      "text/plain": [
       "100"
      ]
     },
     "execution_count": 12,
     "metadata": {},
     "output_type": "execute_result"
    }
   ],
   "source": [
    "test_reprojection()"
   ]
  },
  {
   "cell_type": "markdown",
   "metadata": {},
   "source": [
    "### Submit"
   ]
  },
  {
   "cell_type": "code",
   "execution_count": 13,
   "metadata": {},
   "outputs": [
    {
     "name": "stdout",
     "output_type": "stream",
     "text": [
      "relevant folders: ['exercise_code']\n",
      "notebooks files: ['camera_model.ipynb']\n",
      "Adding folder exercise_code\n",
      "Adding notebook camera_model.ipynb\n",
      "Zipping successful! Zip is stored under: /Users/andreas/Projects/TUM/cv2mvg/output/exercise02.zip\n"
     ]
    }
   ],
   "source": [
    "from exercise_code.submit import submit_exercise\n",
    "\n",
    "submit_exercise('../output/exercise02')"
   ]
  }
 ],
 "metadata": {
  "kernelspec": {
   "display_name": "cv2mvg",
   "language": "python",
   "name": "python3"
  },
  "language_info": {
   "codemirror_mode": {
    "name": "ipython",
    "version": 3
   },
   "file_extension": ".py",
   "mimetype": "text/x-python",
   "name": "python",
   "nbconvert_exporter": "python",
   "pygments_lexer": "ipython3",
   "version": "3.11.11"
  }
 },
 "nbformat": 4,
 "nbformat_minor": 4
}
